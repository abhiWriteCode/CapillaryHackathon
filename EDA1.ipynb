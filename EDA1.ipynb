{
 "cells": [
  {
   "cell_type": "code",
   "execution_count": 83,
   "metadata": {},
   "outputs": [],
   "source": [
    "import pandas as pd\n",
    "import numpy as np"
   ]
  },
  {
   "cell_type": "code",
   "execution_count": 84,
   "metadata": {},
   "outputs": [],
   "source": [
    "customer_analytics = pd.read_csv('Derived/CustomerAnalytics.csv')\n",
    "user_cluster = pd.read_csv('Derived/Clustered_Data.csv')"
   ]
  },
  {
   "cell_type": "code",
   "execution_count": 85,
   "metadata": {
    "scrolled": true
   },
   "outputs": [],
   "source": [
    "user_cluster = user_cluster[['productid', 'Predicted']]\n",
    "analysis = user_cluster.set_index('productid').T.to_dict('int')"
   ]
  },
  {
   "cell_type": "code",
   "execution_count": 86,
   "metadata": {},
   "outputs": [],
   "source": [
    "C_A = customer_analytics.copy()"
   ]
  },
  {
   "cell_type": "code",
   "execution_count": 87,
   "metadata": {
    "scrolled": true
   },
   "outputs": [
    {
     "data": {
      "text/html": [
       "<div>\n",
       "<style scoped>\n",
       "    .dataframe tbody tr th:only-of-type {\n",
       "        vertical-align: middle;\n",
       "    }\n",
       "\n",
       "    .dataframe tbody tr th {\n",
       "        vertical-align: top;\n",
       "    }\n",
       "\n",
       "    .dataframe thead th {\n",
       "        text-align: right;\n",
       "    }\n",
       "</style>\n",
       "<table border=\"1\" class=\"dataframe\">\n",
       "  <thead>\n",
       "    <tr style=\"text-align: right;\">\n",
       "      <th></th>\n",
       "      <th>CustomerId</th>\n",
       "      <th>0</th>\n",
       "      <th>1</th>\n",
       "      <th>2</th>\n",
       "      <th>3</th>\n",
       "      <th>4</th>\n",
       "      <th>5</th>\n",
       "      <th>6</th>\n",
       "      <th>7</th>\n",
       "      <th>8</th>\n",
       "      <th>...</th>\n",
       "      <th>230</th>\n",
       "      <th>231</th>\n",
       "      <th>232</th>\n",
       "      <th>233</th>\n",
       "      <th>234</th>\n",
       "      <th>235</th>\n",
       "      <th>236</th>\n",
       "      <th>237</th>\n",
       "      <th>238</th>\n",
       "      <th>239</th>\n",
       "    </tr>\n",
       "  </thead>\n",
       "  <tbody>\n",
       "    <tr>\n",
       "      <th>0</th>\n",
       "      <td>18075</td>\n",
       "      <td>12322648</td>\n",
       "      <td>12658444.0</td>\n",
       "      <td>12658492.0</td>\n",
       "      <td>12658364.0</td>\n",
       "      <td>12658272.0</td>\n",
       "      <td>12407738.0</td>\n",
       "      <td>12658394.0</td>\n",
       "      <td>12658304.0</td>\n",
       "      <td>11659810.0</td>\n",
       "      <td>...</td>\n",
       "      <td>NaN</td>\n",
       "      <td>NaN</td>\n",
       "      <td>NaN</td>\n",
       "      <td>NaN</td>\n",
       "      <td>NaN</td>\n",
       "      <td>NaN</td>\n",
       "      <td>NaN</td>\n",
       "      <td>NaN</td>\n",
       "      <td>NaN</td>\n",
       "      <td>NaN</td>\n",
       "    </tr>\n",
       "  </tbody>\n",
       "</table>\n",
       "<p>1 rows × 241 columns</p>\n",
       "</div>"
      ],
      "text/plain": [
       "   CustomerId         0           1           2           3           4  \\\n",
       "0       18075  12322648  12658444.0  12658492.0  12658364.0  12658272.0   \n",
       "\n",
       "            5           6           7           8 ...   230  231  232  233  \\\n",
       "0  12407738.0  12658394.0  12658304.0  11659810.0 ...   NaN  NaN  NaN  NaN   \n",
       "\n",
       "   234  235  236  237  238  239  \n",
       "0  NaN  NaN  NaN  NaN  NaN  NaN  \n",
       "\n",
       "[1 rows x 241 columns]"
      ]
     },
     "execution_count": 87,
     "metadata": {},
     "output_type": "execute_result"
    }
   ],
   "source": [
    "C_A.head(1)"
   ]
  },
  {
   "cell_type": "code",
   "execution_count": 88,
   "metadata": {},
   "outputs": [
    {
     "data": {
      "text/plain": [
       "33"
      ]
     },
     "execution_count": 88,
     "metadata": {},
     "output_type": "execute_result"
    }
   ],
   "source": [
    "analysis['Predicted'][12322648]"
   ]
  },
  {
   "cell_type": "code",
   "execution_count": 89,
   "metadata": {},
   "outputs": [],
   "source": [
    "cus_id = C_A['CustomerId']\n",
    "C_A.drop(['CustomerId'], axis=1, inplace=True)"
   ]
  },
  {
   "cell_type": "code",
   "execution_count": 91,
   "metadata": {
    "scrolled": true
   },
   "outputs": [
    {
     "data": {
      "text/plain": [
       "array([[33., 23., 14., ..., nan, nan, nan],\n",
       "       [14., 13., 33., ..., nan, nan, nan],\n",
       "       [14., nan, nan, ..., nan, nan, nan],\n",
       "       ...,\n",
       "       [ 3., nan, nan, ..., nan, nan, nan],\n",
       "       [ 4.,  4.,  4., ..., nan, nan, nan],\n",
       "       [33., nan, nan, ..., nan, nan, nan]])"
      ]
     },
     "execution_count": 91,
     "metadata": {},
     "output_type": "execute_result"
    }
   ],
   "source": [
    "# C_A.replace(np.nan, 0)\n",
    "np_array = C_A.values\n",
    "for i in range(np_array.shape[0]):\n",
    "    for j in range(np_array.shape[1]):\n",
    "        try:\n",
    "            np_array[i,j] = analysis['Predicted'][np_array[i,j]]\n",
    "        except:\n",
    "            if not np.isnan(np_array[i,j]):\n",
    "                np_array[i,j] = 37\n",
    "            \n",
    "np_array"
   ]
  },
  {
   "cell_type": "code",
   "execution_count": 92,
   "metadata": {
    "scrolled": true
   },
   "outputs": [],
   "source": [
    "output = pd.DataFrame(data=np_array)\n",
    "out = pd.concat([cus_id, output], axis=1, sort=False)"
   ]
  },
  {
   "cell_type": "code",
   "execution_count": 93,
   "metadata": {},
   "outputs": [],
   "source": [
    "out.to_csv('CustomerAnalysisGrouping.csv', index=False)"
   ]
  },
  {
   "cell_type": "code",
   "execution_count": 95,
   "metadata": {},
   "outputs": [
    {
     "data": {
      "text/plain": [
       "(27777, 39)"
      ]
     },
     "execution_count": 95,
     "metadata": {},
     "output_type": "execute_result"
    }
   ],
   "source": [
    "from collections import Counter\n",
    "cag = out.copy()\n",
    "cag = cag.fillna('None')\n",
    "l = []\n",
    "\n",
    "for i in range(cag.shape[0]):\n",
    "    c = Counter(cag.iloc[i, 1:])\n",
    "    d = {}\n",
    "    for k, v in c.items():\n",
    "        d[k] = d.setdefault(k, 0) + v\n",
    "    l.append(d)\n",
    "    \n",
    "df = pd.DataFrame(l)\n",
    "df.shape"
   ]
  },
  {
   "cell_type": "code",
   "execution_count": 99,
   "metadata": {},
   "outputs": [],
   "source": [
    "df.to_csv('EachCluster.csv', index=False)"
   ]
  },
  {
   "cell_type": "code",
   "execution_count": null,
   "metadata": {},
   "outputs": [],
   "source": []
  }
 ],
 "metadata": {
  "kernelspec": {
   "display_name": "Python 3",
   "language": "python",
   "name": "python3"
  },
  "language_info": {
   "codemirror_mode": {
    "name": "ipython",
    "version": 3
   },
   "file_extension": ".py",
   "mimetype": "text/x-python",
   "name": "python",
   "nbconvert_exporter": "python",
   "pygments_lexer": "ipython3",
   "version": "3.6.5"
  }
 },
 "nbformat": 4,
 "nbformat_minor": 2
}
